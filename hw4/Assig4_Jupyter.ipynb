{
 "cells": [
  {
   "cell_type": "code",
   "execution_count": 2,
   "id": "da8ab0a6",
   "metadata": {},
   "outputs": [
    {
     "name": "stdout",
     "output_type": "stream",
     "text": [
      "all modules imported successfully\n"
     ]
    }
   ],
   "source": [
    "import pandas as pd\n",
    "import statsmodels.api as sm\n",
    "import numpy as np\n",
    "from scipy.stats import t\n",
    "import matplotlib.pyplot as plt\n",
    "\n",
    "print(\"all modules imported successfully\")"
   ]
  },
  {
   "cell_type": "code",
   "execution_count": 3,
   "id": "d0565724",
   "metadata": {},
   "outputs": [
    {
     "name": "stdout",
     "output_type": "stream",
     "text": [
      "Data loaded successfully. Shape: (324, 7)\n"
     ]
    },
    {
     "data": {
      "text/html": [
       "<div>\n",
       "<style scoped>\n",
       "    .dataframe tbody tr th:only-of-type {\n",
       "        vertical-align: middle;\n",
       "    }\n",
       "\n",
       "    .dataframe tbody tr th {\n",
       "        vertical-align: top;\n",
       "    }\n",
       "\n",
       "    .dataframe thead th {\n",
       "        text-align: right;\n",
       "    }\n",
       "</style>\n",
       "<table border=\"1\" class=\"dataframe\">\n",
       "  <thead>\n",
       "    <tr style=\"text-align: right;\">\n",
       "      <th></th>\n",
       "      <th>Date</th>\n",
       "      <th>RPmsoft</th>\n",
       "      <th>RPsandp</th>\n",
       "      <th>Dprod</th>\n",
       "      <th>Dinflation</th>\n",
       "      <th>Dterm</th>\n",
       "      <th>m1</th>\n",
       "    </tr>\n",
       "  </thead>\n",
       "  <tbody>\n",
       "    <tr>\n",
       "      <th>0</th>\n",
       "      <td>1986m5</td>\n",
       "      <td>7.658835</td>\n",
       "      <td>4.376684</td>\n",
       "      <td>0.0960</td>\n",
       "      <td>0.459855</td>\n",
       "      <td>0.26</td>\n",
       "      <td>0</td>\n",
       "    </tr>\n",
       "    <tr>\n",
       "      <th>1</th>\n",
       "      <td>1986m6</td>\n",
       "      <td>-13.497473</td>\n",
       "      <td>0.849428</td>\n",
       "      <td>-0.1768</td>\n",
       "      <td>0.273590</td>\n",
       "      <td>0.46</td>\n",
       "      <td>0</td>\n",
       "    </tr>\n",
       "    <tr>\n",
       "      <th>2</th>\n",
       "      <td>1986m7</td>\n",
       "      <td>-8.110257</td>\n",
       "      <td>-6.559180</td>\n",
       "      <td>0.3538</td>\n",
       "      <td>-0.549452</td>\n",
       "      <td>-0.40</td>\n",
       "      <td>0</td>\n",
       "    </tr>\n",
       "    <tr>\n",
       "      <th>3</th>\n",
       "      <td>1986m8</td>\n",
       "      <td>-0.500000</td>\n",
       "      <td>6.377262</td>\n",
       "      <td>-0.1189</td>\n",
       "      <td>0.182482</td>\n",
       "      <td>0.20</td>\n",
       "      <td>0</td>\n",
       "    </tr>\n",
       "    <tr>\n",
       "      <th>4</th>\n",
       "      <td>1986m9</td>\n",
       "      <td>-1.326896</td>\n",
       "      <td>-9.376907</td>\n",
       "      <td>0.0956</td>\n",
       "      <td>0.272271</td>\n",
       "      <td>0.42</td>\n",
       "      <td>0</td>\n",
       "    </tr>\n",
       "  </tbody>\n",
       "</table>\n",
       "</div>"
      ],
      "text/plain": [
       "     Date    RPmsoft   RPsandp   Dprod  Dinflation  Dterm  m1\n",
       "0  1986m5   7.658835  4.376684  0.0960    0.459855   0.26   0\n",
       "1  1986m6 -13.497473  0.849428 -0.1768    0.273590   0.46   0\n",
       "2  1986m7  -8.110257 -6.559180  0.3538   -0.549452  -0.40   0\n",
       "3  1986m8  -0.500000  6.377262 -0.1189    0.182482   0.20   0\n",
       "4  1986m9  -1.326896 -9.376907  0.0956    0.272271   0.42   0"
      ]
     },
     "execution_count": 3,
     "metadata": {},
     "output_type": "execute_result"
    }
   ],
   "source": [
    "#load data\n",
    "def data_loader(file_name: str) -> pd.DataFrame:\n",
    "    data = pd.read_csv(file_name)\n",
    "    print(f\"Data loaded successfully. Shape: {data.shape}\")\n",
    "    return data\n",
    "\n",
    "msoft_df = data_loader(\"microsoft - microsoft.csv\")\n",
    "msoft_df.head()"
   ]
  },
  {
   "cell_type": "markdown",
   "id": "9b9f7188",
   "metadata": {},
   "source": [
    "### Regression function\n",
    "\n",
    "RPmsof tt = β1+β2RP sandpt+β3Dprodt+β4Dinflationt+β5Dtermt+β6m1t+εt"
   ]
  },
  {
   "cell_type": "code",
   "execution_count": 4,
   "id": "6b53db7c",
   "metadata": {},
   "outputs": [
    {
     "name": "stdout",
     "output_type": "stream",
     "text": [
      "                            OLS Regression Results                            \n",
      "==============================================================================\n",
      "Dep. Variable:                RPmsoft   R-squared:                       0.213\n",
      "Model:                            OLS   Adj. R-squared:                  0.201\n",
      "Method:                 Least Squares   F-statistic:                     17.26\n",
      "Date:                Wed, 22 Oct 2025   Prob (F-statistic):           4.08e-15\n",
      "Time:                        17:29:07   Log-Likelihood:                -1276.7\n",
      "No. Observations:                 324   AIC:                             2565.\n",
      "Df Residuals:                     318   BIC:                             2588.\n",
      "Df Model:                           5                                         \n",
      "Covariance Type:            nonrobust                                         \n",
      "==============================================================================\n",
      "                 coef    std err          t      P>|t|      [0.025      0.975]\n",
      "------------------------------------------------------------------------------\n",
      "const         -0.9291      0.760     -1.223      0.222      -2.424       0.566\n",
      "RPsandp        1.3232      0.152      8.678      0.000       1.023       1.623\n",
      "Dprod         -1.5216      1.283     -1.186      0.237      -4.046       1.003\n",
      "Dinflation     0.4716      2.351      0.201      0.841      -4.154       5.097\n",
      "Dterm          4.1587      2.487      1.672      0.095      -0.735       9.052\n",
      "m1             5.4352      2.869      1.894      0.059      -0.210      11.081\n",
      "==============================================================================\n",
      "Omnibus:                      203.965   Durbin-Watson:                   2.141\n",
      "Prob(Omnibus):                  0.000   Jarque-Bera (JB):             1809.211\n",
      "Skew:                          -2.541   Prob(JB):                         0.00\n",
      "Kurtosis:                      13.401   Cond. No.                         21.2\n",
      "==============================================================================\n",
      "\n",
      "Notes:\n",
      "[1] Standard Errors assume that the covariance matrix of the errors is correctly specified.\n"
     ]
    }
   ],
   "source": [
    "#2a\n",
    "\n",
    "#define dependent and independent variables and add constant\n",
    "\n",
    "X = msoft_df[['RPsandp', 'Dprod', 'Dinflation', 'Dterm', 'm1']]\n",
    "y = msoft_df['RPmsoft']\n",
    "X = sm.add_constant(X)\n",
    "\n",
    "#fit the model\n",
    "model = sm.OLS(y, X).fit()\n",
    "beta_hat = model.params[X.columns]\n",
    "epsilon_hat = model.resid\n",
    "sigma_hat_squared = (epsilon_hat@ epsilon_hat) / (len(y) - len(beta_hat))\n",
    "XX_inv = np.linalg.inv(X.T @ X)\n",
    "\n",
    "deg_freedom = len(y) - len(beta_hat)\n",
    "\n",
    "print(model.summary())\n",
    "\n",
    "with open('regression_output.tex', 'w') as f:\n",
    "    f.write(model.summary().as_latex())\n"
   ]
  },
  {
   "cell_type": "code",
   "execution_count": 5,
   "id": "90c5c6ff",
   "metadata": {},
   "outputs": [
    {
     "name": "stdout",
     "output_type": "stream",
     "text": [
      "\n",
      "Standard Error of beta_6 (m1): 2.8694482721033028\n",
      "t-statistic of beta_6 (m1): 1.8941512023009712\n",
      "p-value of beta_6 (m1): 0.05911219106952914\n",
      "\n",
      "Critical t-value (positive): 2.5913778895151474\n",
      "Critical t-value (negative): -2.591377889515148\n",
      "At significance level 0.01, we fail to reject the null hypothesis that beta_6 = 0.\n"
     ]
    }
   ],
   "source": [
    "# 2b\n",
    "#Calculate standard errors, t-statistics, and p-values\n",
    "\n",
    "alpha = 0.01\n",
    "\n",
    "std_error_beta6 = np.sqrt(sigma_hat_squared * XX_inv[5][5])\n",
    "t_stat_beta6 = beta_hat.iloc[5] / std_error_beta6\n",
    "p_value_beta6 = 2 * (1 - t.cdf(np.abs(t_stat_beta6), deg_freedom))\n",
    "\n",
    "print(f\"\\nStandard Error of beta_6 (m1): {std_error_beta6}\")\n",
    "print(f\"t-statistic of beta_6 (m1): {t_stat_beta6}\")\n",
    "print(f\"p-value of beta_6 (m1): {p_value_beta6}\")\n",
    "\n",
    "critical_value_positive = t.ppf(1 - alpha / 2, deg_freedom)\n",
    "critical_value_negative = t.ppf(alpha / 2, deg_freedom)\n",
    "\n",
    "print(f\"\\nCritical t-value (positive): {critical_value_positive}\")\n",
    "print(f\"Critical t-value (negative): {critical_value_negative}\")\n",
    "\n",
    "reject = (t_stat_beta6 > critical_value_positive) or (t_stat_beta6 < critical_value_negative)\n",
    "fail_to_reject = not reject\n",
    "\n",
    "if reject:\n",
    "    print(f\"At significance level {alpha}, we reject the null hypothesis that beta_6 = 0.\")\n",
    "else:\n",
    "    print(f\"At significance level {alpha}, we fail to reject the null hypothesis that beta_6 = 0.\")\n"
   ]
  },
  {
   "cell_type": "code",
   "execution_count": null,
   "id": "19f36c77",
   "metadata": {},
   "outputs": [],
   "source": []
  },
  {
   "cell_type": "code",
   "execution_count": 6,
   "id": "b4030735",
   "metadata": {},
   "outputs": [
    {
     "name": "stdout",
     "output_type": "stream",
     "text": [
      "\n",
      "Skewness of residuals: -2.541093397756985\n",
      "Kurtosis of residuals: 13.40129942938899\n",
      "324\n",
      "Jarque-Bera statistic: 1809.211307998108\n",
      "True\n",
      "\n",
      "Jarque-Bera Test Results:\n",
      "JB statistic: 1809.21\n",
      "Critical value (α=0.01): 9.21\n",
      "p-value: 0.0\n",
      "\n",
      "Reject H0: Residuals are NOT normally distributed\n"
     ]
    }
   ],
   "source": [
    "# 2d\n",
    "\n",
    "# Jarque-Bera test for question 2b\n",
    "\n",
    "sk = sm.stats.stattools.jarque_bera(epsilon_hat)[2]\n",
    "kur = sm.stats.stattools.jarque_bera(epsilon_hat)[3]\n",
    "\n",
    "print(f\"\\nSkewness of residuals: {sk}\")\n",
    "print(f\"Kurtosis of residuals: {kur}\")\n",
    "\n",
    "n = msoft_df.shape[0]\n",
    "print(n)\n",
    "\n",
    "JB = (n / 6) * (sk**2 + (1 / 4) * (kur - 3)**2)\n",
    "\n",
    "print(f\"Jarque-Bera statistic: {JB}\")\n",
    "\n",
    "check = JB == sm.stats.stattools.jarque_bera(epsilon_hat)[0]\n",
    "print(check)\n",
    "\n",
    "from scipy.stats import chi2\n",
    "\n",
    "JB_stat = 1809.21\n",
    "alpha = 0.01\n",
    "critical_value = chi2.ppf(1 - alpha, df=2)\n",
    "p_value = 1 - chi2.cdf(JB_stat, df=2)\n",
    "\n",
    "print(f\"\\nJarque-Bera Test Results:\")\n",
    "print(f\"JB statistic: {JB_stat:.2f}\")\n",
    "print(f\"Critical value (α=0.01): {critical_value:.2f}\")\n",
    "print(f\"p-value: {p_value}\")\n",
    "\n",
    "if JB_stat > critical_value:\n",
    "    print(f\"\\nReject H0: Residuals are NOT normally distributed\")\n",
    "else:\n",
    "    print(f\"\\nFail to reject H0: Residuals appear normally distributed\")"
   ]
  }
 ],
 "metadata": {
  "kernelspec": {
   "display_name": "econometrics",
   "language": "python",
   "name": "python3"
  },
  "language_info": {
   "codemirror_mode": {
    "name": "ipython",
    "version": 3
   },
   "file_extension": ".py",
   "mimetype": "text/x-python",
   "name": "python",
   "nbconvert_exporter": "python",
   "pygments_lexer": "ipython3",
   "version": "3.11.13"
  }
 },
 "nbformat": 4,
 "nbformat_minor": 5
}
